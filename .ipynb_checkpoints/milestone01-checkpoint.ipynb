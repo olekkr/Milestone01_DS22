{
 "cells": [
  {
   "cell_type": "markdown",
   "id": "8173cad5",
   "metadata": {},
   "source": [
    "Imports"
   ]
  },
  {
   "cell_type": "markdown",
   "id": "fe88cff8",
   "metadata": {},
   "source": [
    "X Read the CSV file  \n",
    "Manually inspect the data to get an idea of potential problems that need to be fixed.  \n",
    "Clean the data. First, we'll try to do this manually, by writing our own clean_text() function that uses regular expressions. The function should take raw text as input and return a version of the text with the following modifications:  \n",
    "        all words must be lowercased\n",
    "        it should not contain multiple white spaces, tabs or new lines\n",
    "        numbers, dates, emails and urls should be replaced by \"<NUM>\", \"<DATE>\", \"<EMAIL>\" AND \"<URL>\", respectively. Note that replacing dates with <DATE> is particularly tricky as dates can be expressed in many forms. It's ok to to just choose one or a few common date formats present in the data set and only replace those. (Be careful about tokenizing <> symbols because these are punctuation in most Tokenizers).\n",
    "    Now, let's try to use a library for cleaning the data. The clean-text module (https://pypi.org/project/clean-text/ (Links to an external site.)) provides out-of-the-box functionality for much of the cleaning we did in the previous exercise (pip install clean-text). Use it to implement the same cleaning steps as in your own clean_text implementation.\n",
    "    Now that we are done cleaning, we can start process the text. The nltk library (https://www.nltk.org/ (Links to an external site.)) has built-in support for many of the most common operations. Try to:\n",
    "        Tokenize the text.\n",
    "        Remove stopwords and compute the size of the vocabulary. Compute the reduction rate of the vocabulary size after removing stopwords.\n",
    "        Remove word variations with stemming and compute the size of the vocabulary. Compute the reduction rate of the vocabulary size after stemming.\n"
   ]
  },
  {
   "cell_type": "code",
   "execution_count": 1,
   "id": "4da23f5d",
   "metadata": {
    "scrolled": false
   },
   "outputs": [],
   "source": [
    "import requests\n",
    "import re\n",
    "import numpy as np\n",
    "import pandas as pd"
   ]
  },
  {
   "cell_type": "code",
   "execution_count": 2,
   "id": "41d8c34f",
   "metadata": {},
   "outputs": [
    {
     "data": {
      "text/plain": [
       "<Response [200]>"
      ]
     },
     "execution_count": 2,
     "metadata": {},
     "output_type": "execute_result"
    }
   ],
   "source": [
    "# Download csv from internet\n",
    "csvdata = requests.get(\"https://raw.githubusercontent.com/several27/FakeNewsCorpus/master/news_sample.csv\")\n",
    "csvdata"
   ]
  },
  {
   "cell_type": "code",
   "execution_count": 3,
   "id": "c8dd75aa",
   "metadata": {},
   "outputs": [],
   "source": [
    "# Write csvfile \n",
    "with open(\"rawdata.csv\",\"wb\") as file:\n",
    "    file.write(csvdata.content)"
   ]
  },
  {
   "cell_type": "markdown",
   "id": "5396218d",
   "metadata": {},
   "source": [
    "### First observation takeaways:\n",
    "* It is in csv format, means we have to parse it.\n",
    "* Newlines are used for each row, commas are used to seperate each field.\n",
    "* Some commas exist in the text, though they should be within sets of quotiationmarks.\n",
    "* Some weird instances of ['']\n",
    "* A lot of duplicate whitespace and newlines\n"
   ]
  },
  {
   "cell_type": "code",
   "execution_count": 4,
   "id": "bf58e279",
   "metadata": {},
   "outputs": [
    {
     "name": "stdout",
     "output_type": "stream",
     "text": [
      "     Unnamed: 0     id                domain        type  \\\n",
      "0             0    141               awm.com  unreliable   \n",
      "1             1    256     beforeitsnews.com        fake   \n",
      "2             2    700           cnnnext.com  unreliable   \n",
      "3             3    768               awm.com  unreliable   \n",
      "4             4    791  bipartisanreport.com   clickbait   \n",
      "..          ...    ...                   ...         ...   \n",
      "245         245  39259     beforeitsnews.com        fake   \n",
      "246         246  39468     beforeitsnews.com        fake   \n",
      "247         247  39477       www.newsmax.com         NaN   \n",
      "248         248  39550       www.newsmax.com         NaN   \n",
      "249         249  39558       www.newsmax.com         NaN   \n",
      "\n",
      "                                                   url  \\\n",
      "0    http://awm.com/church-congregation-brings-gift...   \n",
      "1    http://beforeitsnews.com/awakening-start-here/...   \n",
      "2    http://www.cnnnext.com/video/18526/never-hike-...   \n",
      "3    http://awm.com/elusive-alien-of-the-sea-caught...   \n",
      "4    http://bipartisanreport.com/2018/01/21/trumps-...   \n",
      "..                                                 ...   \n",
      "245  http://beforeitsnews.com/economy/2017/12/priso...   \n",
      "246  http://beforeitsnews.com/diy/2017/11/4-useful-...   \n",
      "247  https://www.newsmax.com/politics/michael-hayde...   \n",
      "248  https://www.newsmax.com/newsfront/antonio-saba...   \n",
      "249  https://www.newsmax.com/newsfront/bill-clinton...   \n",
      "\n",
      "                                               content  \\\n",
      "0    Sometimes the power of Christmas will make you...   \n",
      "1    AWAKENING OF 12 STRANDS of DNA – “Reconnecting...   \n",
      "2    Never Hike Alone: A Friday the 13th Fan Film U...   \n",
      "3    When a rare shark was caught, scientists were ...   \n",
      "4    Donald Trump has the unnerving ability to abil...   \n",
      "..                                                 ...   \n",
      "245  Prison for Rahm, God’s Work And Many Others\\n\\...   \n",
      "246  4 Useful Items for Your Tiny Home\\n\\nHeadline:...   \n",
      "247  Former CIA Director Michael Hayden said Thursd...   \n",
      "248  Antonio Sabato Jr. says Hollywood's liberal el...   \n",
      "249  Former U.S. President Bill Clinton on Monday c...   \n",
      "\n",
      "                     scraped_at                 inserted_at  \\\n",
      "0    2018-01-25 16:17:44.789555  2018-02-02 01:19:41.756632   \n",
      "1    2018-01-25 16:17:44.789555  2018-02-02 01:19:41.756632   \n",
      "2    2018-01-25 16:17:44.789555  2018-02-02 01:19:41.756632   \n",
      "3    2018-01-25 16:17:44.789555  2018-02-02 01:19:41.756632   \n",
      "4    2018-01-25 16:17:44.789555  2018-02-02 01:19:41.756632   \n",
      "..                          ...                         ...   \n",
      "245  2018-01-25 20:13:50.426130  2018-02-02 01:19:41.756632   \n",
      "246  2018-01-25 20:13:50.426130  2018-02-02 01:19:41.756632   \n",
      "247  2018-01-25 20:13:50.426130  2018-02-02 01:19:41.756632   \n",
      "248  2018-01-25 20:13:50.426130  2018-02-02 01:19:41.756632   \n",
      "249  2018-01-25 20:13:50.426130  2018-02-02 01:19:41.756632   \n",
      "\n",
      "                     updated_at  \\\n",
      "0    2018-02-02 01:19:41.756664   \n",
      "1    2018-02-02 01:19:41.756664   \n",
      "2    2018-02-02 01:19:41.756664   \n",
      "3    2018-02-02 01:19:41.756664   \n",
      "4    2018-02-02 01:19:41.756664   \n",
      "..                          ...   \n",
      "245  2018-02-02 01:19:41.756664   \n",
      "246  2018-02-02 01:19:41.756664   \n",
      "247  2018-02-02 01:19:41.756664   \n",
      "248  2018-02-02 01:19:41.756664   \n",
      "249  2018-02-02 01:19:41.756664   \n",
      "\n",
      "                                                 title          authors  \\\n",
      "0    Church Congregation Brings Gift to Waitresses ...      Ruth Harris   \n",
      "1    AWAKENING OF 12 STRANDS of DNA – “Reconnecting...     Zurich Times   \n",
      "2    Never Hike Alone - A Friday the 13th Fan Film ...              NaN   \n",
      "3    Elusive ‘Alien Of The Sea ‘ Caught By Scientis...  Alexander Smith   \n",
      "4    Trump’s Genius Poll Is Complete & The Results ...  Gloria Christie   \n",
      "..                                                 ...              ...   \n",
      "245        Prison for Rahm, God’s Work And Many Others              NaN   \n",
      "246                  4 Useful Items for Your Tiny Home        Dimitry K   \n",
      "247  Michael Hayden: We Should Be 'Frightened' by T...      Todd Beamon   \n",
      "248  Antonio Sabato Jr.: It's Oprah or Bust for Hol...    Bill Hoffmann   \n",
      "249  Bill Clinton Calls for Release of Reuters Jour...              NaN   \n",
      "\n",
      "     keywords                                      meta_keywords  \\\n",
      "0         NaN                                               ['']   \n",
      "1         NaN                                               ['']   \n",
      "2         NaN                                               ['']   \n",
      "3         NaN                                               ['']   \n",
      "4         NaN                                               ['']   \n",
      "..        ...                                                ...   \n",
      "245       NaN                                               ['']   \n",
      "246       NaN                                               ['']   \n",
      "247       NaN  ['michael hayden', 'sthole countries', 'daca',...   \n",
      "248       NaN  ['antonio sabato jr', 'oprah winfrey', 'presid...   \n",
      "249       NaN  ['bill clinton', 'myanmar', 'calls', 'release'...   \n",
      "\n",
      "                                      meta_description  \\\n",
      "0                                                  NaN   \n",
      "1                                                  NaN   \n",
      "2    Never Hike Alone: A Friday the 13th Fan Film  ...   \n",
      "3                                                  NaN   \n",
      "4                                                  NaN   \n",
      "..                                                 ...   \n",
      "245                                                NaN   \n",
      "246                                                NaN   \n",
      "247  President Donald Trump's reported remarks abou...   \n",
      "248  Antonio Sabato Jr. says Hollywood's liberal el...   \n",
      "249  Former U.S. President Bill Clinton Calls for R...   \n",
      "\n",
      "                                                  tags  summary  \n",
      "0                                                  NaN      NaN  \n",
      "1                                                  NaN      NaN  \n",
      "2                                                  NaN      NaN  \n",
      "3                                                  NaN      NaN  \n",
      "4                                                  NaN      NaN  \n",
      "..                                                 ...      ...  \n",
      "245                                                NaN      NaN  \n",
      "246                                                NaN      NaN  \n",
      "247  Homeland Security, Trump Administration, Immig...      NaN  \n",
      "248  Trump Administration, ISIS/Islamic State, News...      NaN  \n",
      "249  Donald Trump, Russia, Trump Administration, Gu...      NaN  \n",
      "\n",
      "[250 rows x 16 columns]\n"
     ]
    }
   ],
   "source": [
    "# Parse csv into dataframe\n",
    "df = pd.read_csv ('rawdata.csv')\n",
    "print(df)"
   ]
  },
  {
   "cell_type": "code",
   "execution_count": 5,
   "id": "0ba3712b",
   "metadata": {},
   "outputs": [
    {
     "data": {
      "text/plain": [
       "Unnamed: 0            int64\n",
       "id                    int64\n",
       "domain               object\n",
       "type                 object\n",
       "url                  object\n",
       "content              object\n",
       "scraped_at           object\n",
       "inserted_at          object\n",
       "updated_at           object\n",
       "title                object\n",
       "authors              object\n",
       "keywords            float64\n",
       "meta_keywords        object\n",
       "meta_description     object\n",
       "tags                 object\n",
       "summary             float64\n",
       "dtype: object"
      ]
     },
     "execution_count": 5,
     "metadata": {},
     "output_type": "execute_result"
    }
   ],
   "source": [
    "df.dtypes"
   ]
  },
  {
   "cell_type": "code",
   "execution_count": null,
   "id": "5af68aa4",
   "metadata": {},
   "outputs": [],
   "source": [
    "df."
   ]
  }
 ],
 "metadata": {
  "kernelspec": {
   "display_name": "Python 3 (ipykernel)",
   "language": "python",
   "name": "python3"
  },
  "language_info": {
   "codemirror_mode": {
    "name": "ipython",
    "version": 3
   },
   "file_extension": ".py",
   "mimetype": "text/x-python",
   "name": "python",
   "nbconvert_exporter": "python",
   "pygments_lexer": "ipython3",
   "version": "3.10.2"
  }
 },
 "nbformat": 4,
 "nbformat_minor": 5
}
